{
 "cells": [
  {
   "cell_type": "markdown",
   "metadata": {},
   "source": [
    "## 1. Calculate Area of a Circle"
   ]
  },
  {
   "cell_type": "markdown",
   "metadata": {},
   "source": [
    "#### Write a Python program which accepts the radius of a circle from the user and compute the area.\n",
    "###### Program Console Sample Output 1:\n",
    "###### Input Radius: 0.5\n",
    "###### Area of Circle with radius 0.5 is 0.7853981634"
   ]
  },
  {
   "cell_type": "code",
   "execution_count": 11,
   "metadata": {},
   "outputs": [
    {
     "name": "stdout",
     "output_type": "stream",
     "text": [
      "Radius of circle :  0.5\n",
      "The Area of circle is  0.785\n"
     ]
    }
   ],
   "source": [
    "radius = float(input(\"Radius of circle :  \"))\n",
    "area = 3.14 * radius**2\n",
    "print(\"The Area of circle is \",area)"
   ]
  },
  {
   "cell_type": "code",
   "execution_count": null,
   "metadata": {},
   "outputs": [],
   "source": []
  },
  {
   "cell_type": "code",
   "execution_count": null,
   "metadata": {},
   "outputs": [],
   "source": []
  },
  {
   "cell_type": "markdown",
   "metadata": {},
   "source": [
    "## 2. Check Number either positive, negative or zero"
   ]
  },
  {
   "cell_type": "markdown",
   "metadata": {},
   "source": [
    "#### Write a Python program to check if a number is positive, negative or zero\n",
    "###### Program Console Sample Output 1:\n",
    "###### Enter Number: -1\n",
    "##### Negative Number Entered\n",
    "###### Program Console Sample Output 2:\n",
    "##### Integer: 3\n",
    "##### Positive Number Entered\n",
    "###### Program Console Sample Output 3:\n",
    "##### Integer: 0\n",
    "###### Zero Entered"
   ]
  },
  {
   "cell_type": "code",
   "execution_count": 1,
   "metadata": {},
   "outputs": [
    {
     "name": "stdout",
     "output_type": "stream",
     "text": [
      "Check Number: -9\n",
      "Negative Number Entered\n"
     ]
    }
   ],
   "source": [
    "check = int(input(\"Check Number: \"))\n",
    "for a in range(1,99999999):\n",
    "    if check == a:\n",
    "        print(\"Positive Number Entered\")\n",
    "for b in range(-99999999,-1):\n",
    "    if check == b:\n",
    "        print(\"Negative Number Entered\")\n",
    "if check == 0:\n",
    "    print(\"Zero Entered\")"
   ]
  },
  {
   "cell_type": "code",
   "execution_count": 2,
   "metadata": {},
   "outputs": [
    {
     "name": "stdout",
     "output_type": "stream",
     "text": [
      "Check Number: 3\n",
      "Positive Number Entered\n"
     ]
    }
   ],
   "source": [
    "check = int(input(\"Check Number: \"))\n",
    "for a in range(1,99999999):\n",
    "    if check == a:\n",
    "        print(\"Positive Number Entered\")\n",
    "for b in range(-99999999,-1):\n",
    "    if check == b:\n",
    "        print(\"Negative Number Entered\")\n",
    "if check == 0:\n",
    "    print(\"Zero Entered\")"
   ]
  },
  {
   "cell_type": "code",
   "execution_count": 2,
   "metadata": {},
   "outputs": [
    {
     "name": "stdout",
     "output_type": "stream",
     "text": [
      "Check Number: 0\n",
      "Zero Entered\n"
     ]
    }
   ],
   "source": [
    "check = int(input(\"Check Number: \"))\n",
    "for a in range(1,99999999):\n",
    "    if check == a:\n",
    "        print(\"Positive Number Entered\")\n",
    "for b in range(-99999999,-1):\n",
    "    if check == b:\n",
    "        print(\"Negative Number Entered\")\n",
    "if check == 0:\n",
    "    print(\"Zero Entered\")"
   ]
  },
  {
   "cell_type": "code",
   "execution_count": null,
   "metadata": {},
   "outputs": [],
   "source": []
  },
  {
   "cell_type": "markdown",
   "metadata": {},
   "source": [
    "## 3. Divisibility Check of two numbers"
   ]
  },
  {
   "cell_type": "markdown",
   "metadata": {},
   "source": [
    "#### Write a Python program to check whether a number is completely divisible by another number. Accept two integer values form the user\n",
    "##### Program Console Sample Output 1:\n",
    "###### Enter numerator: 4\n",
    "###### Enter Denominator: 2\n",
    "##### Number 4 is Completely divisible by 2\n",
    "###### Program Console Sample Output 2:\n",
    "##### Enter numerator: 7\n",
    "\n",
    "##### Enter Denominator: 4\n",
    "###### Number 7 is not Completely divisible by 4"
   ]
  },
  {
   "cell_type": "code",
   "execution_count": 9,
   "metadata": {},
   "outputs": [
    {
     "name": "stdout",
     "output_type": "stream",
     "text": [
      "Enter Numerator :  4\n",
      "Enter Denominator :  2\n",
      "Number  4  is Completely divisible by  2\n"
     ]
    }
   ],
   "source": [
    "numerator = int(input(\"Enter Numerator :  \"))\n",
    "denominator = int(input(\"Enter Denominator :  \"))\n",
    "divisibile = numerator%denominator\n",
    "if divisibile == 0:\n",
    "    print(\"Number \",numerator, \" is Completely divisible by \" , denominator)\n",
    "else:\n",
    "     print(\"Number \",numerator ,\"is Not Completely divisible by \" , denominator)\n"
   ]
  },
  {
   "cell_type": "code",
   "execution_count": 10,
   "metadata": {},
   "outputs": [
    {
     "name": "stdout",
     "output_type": "stream",
     "text": [
      "Enter Numerator :  7\n",
      "Enter Denominator :  4\n",
      "Number  7 is Not Completely divisible by  4\n"
     ]
    }
   ],
   "source": [
    "numerator = int(input(\"Enter Numerator :  \"))\n",
    "denominator = int(input(\"Enter Denominator :  \"))\n",
    "divisibile = numerator%denominator\n",
    "if divisibile == 0:\n",
    "    print(\"Number \",numerator, \" is Completely divisible by \" , denominator)\n",
    "else:\n",
    "     print(\"Number \",numerator ,\"is Not Completely divisible by \" , denominator)\n"
   ]
  },
  {
   "cell_type": "code",
   "execution_count": null,
   "metadata": {},
   "outputs": [],
   "source": []
  },
  {
   "cell_type": "code",
   "execution_count": null,
   "metadata": {},
   "outputs": [],
   "source": []
  },
  {
   "cell_type": "code",
   "execution_count": null,
   "metadata": {},
   "outputs": [],
   "source": []
  },
  {
   "cell_type": "code",
   "execution_count": null,
   "metadata": {},
   "outputs": [],
   "source": []
  },
  {
   "cell_type": "markdown",
   "metadata": {},
   "source": [
    "## 4. Calculate Volume of a sphere"
   ]
  },
  {
   "cell_type": "markdown",
   "metadata": {},
   "source": [
    "##### Write a Python program to get the volume of a sphere, please take the radius as input from user"
   ]
  },
  {
   "cell_type": "markdown",
   "metadata": {},
   "source": [
    "##### Program Console Output:\n",
    "##### Enter Radius of Sphere: 1\n",
    "###### Volume of the Sphere with Radius 1 is 4.18"
   ]
  },
  {
   "cell_type": "code",
   "execution_count": 8,
   "metadata": {},
   "outputs": [
    {
     "name": "stdout",
     "output_type": "stream",
     "text": [
      "Enter Radius of Sphere  : 1\n",
      "Volume of the Sphere with Radius 1.0 is 4.1866666666666665\n"
     ]
    }
   ],
   "source": [
    "radius_sphere = float(input(\"Enter Radius of Sphere  : \"))\n",
    "volume = (4/3)*3.14*radius_sphere**3\n",
    "print(\"Volume of the Sphere with Radius\",radius_sphere, \"is\", volume)"
   ]
  },
  {
   "cell_type": "code",
   "execution_count": null,
   "metadata": {},
   "outputs": [],
   "source": []
  },
  {
   "cell_type": "code",
   "execution_count": null,
   "metadata": {},
   "outputs": [],
   "source": []
  },
  {
   "cell_type": "code",
   "execution_count": null,
   "metadata": {},
   "outputs": [],
   "source": []
  },
  {
   "cell_type": "code",
   "execution_count": null,
   "metadata": {},
   "outputs": [],
   "source": []
  },
  {
   "cell_type": "markdown",
   "metadata": {},
   "source": [
    "## 5. Copy string n times\n",
    "#### Write a Python program to get a string which is n (non-negative integer) copies of a given string.\n",
    "##### Program Console Output:\n",
    "##### Enter String: Hi\n",
    "###### How many copies of String you need: 4\n",
    "###### 4 Copies of Hi are HiHiHiHi"
   ]
  },
  {
   "cell_type": "code",
   "execution_count": 7,
   "metadata": {},
   "outputs": [
    {
     "name": "stdout",
     "output_type": "stream",
     "text": [
      "Enter String :  Hi\n",
      "How many copies of string you need :  4\n",
      "4 Copies of Hi are HiHiHiHi\n"
     ]
    }
   ],
   "source": [
    "string =str(input(\"Enter String :  \"))\n",
    "copies = int(input(\"How many copies of string you need :  \"))\n",
    "num_of_copies = copies * string\n",
    "print (copies,\"Copies of\",string, \"are\",num_of_copies)"
   ]
  },
  {
   "cell_type": "code",
   "execution_count": null,
   "metadata": {},
   "outputs": [],
   "source": []
  },
  {
   "cell_type": "code",
   "execution_count": null,
   "metadata": {},
   "outputs": [],
   "source": []
  },
  {
   "cell_type": "code",
   "execution_count": null,
   "metadata": {},
   "outputs": [],
   "source": []
  },
  {
   "cell_type": "code",
   "execution_count": null,
   "metadata": {},
   "outputs": [],
   "source": []
  },
  {
   "cell_type": "markdown",
   "metadata": {},
   "source": [
    "## 6. Check if number is Even or Odd\n",
    "### Write a Python program to find whether a given number (accept from the user) is even or odd, print out an appropriate message to the user\n",
    "#### Program Console Output 1:\n",
    "##### Enter Number: 4\n",
    "###### 4 is Even\n",
    "#### Program Console Output 2:\n",
    "##### Enter Number: 9\n",
    "###### 9 is Odd"
   ]
  },
  {
   "cell_type": "code",
   "execution_count": 5,
   "metadata": {},
   "outputs": [
    {
     "name": "stdout",
     "output_type": "stream",
     "text": [
      "Enter Number :  4\n",
      "4 is Even\n"
     ]
    }
   ],
   "source": [
    "check2 = int(input('Enter Number :  '))\n",
    "if check2%2 == 0:\n",
    "    print(check2, \"is Even\")\n",
    "else:\n",
    "    print(check2,\"is odd\")"
   ]
  },
  {
   "cell_type": "code",
   "execution_count": 6,
   "metadata": {},
   "outputs": [
    {
     "name": "stdout",
     "output_type": "stream",
     "text": [
      "Enter Number :  9\n",
      "9 is odd\n"
     ]
    }
   ],
   "source": [
    "check2 = int(input('Enter Number :  '))\n",
    "if check2%2 == 0:\n",
    "    print(check2, \"is Even\")\n",
    "else:\n",
    "    print(check2,\"is odd\")"
   ]
  },
  {
   "cell_type": "code",
   "execution_count": null,
   "metadata": {},
   "outputs": [],
   "source": []
  },
  {
   "cell_type": "code",
   "execution_count": null,
   "metadata": {},
   "outputs": [],
   "source": []
  },
  {
   "cell_type": "code",
   "execution_count": null,
   "metadata": {},
   "outputs": [],
   "source": []
  },
  {
   "cell_type": "markdown",
   "metadata": {},
   "source": [
    "## 7. Vowel Tester\n",
    "### Write a Python program to test whether a passed letter is a vowel or not\n",
    "#### Program Console Output 1:\n",
    "##### Enter a character: A\n",
    "###### Letter A is Vowel\n",
    "#### Program Console Output 2:\n",
    "##### Enter a character: e\n",
    "###### Letter e is Vowel\n",
    "#### Program Console Output 2:\n",
    "##### Enter a character: N\n",
    "###### Letter N is not Vowel"
   ]
  },
  {
   "cell_type": "code",
   "execution_count": 4,
   "metadata": {},
   "outputs": [
    {
     "name": "stdout",
     "output_type": "stream",
     "text": [
      "Enter a character :  A\n",
      "Letter a is Vowel\n"
     ]
    }
   ],
   "source": [
    "vowel = [\"a\",\"e\",\"i\",\"o\",\"u\"]\n",
    "character = str(input(\"Enter a character :  \"))\n",
    "character = character.lower()\n",
    "for b in vowel:\n",
    "    if character == b:\n",
    "        print (\"Letter\",character, \"is Vowel\")\n",
    "        break\n",
    "else:\n",
    "    print(\"Letter\", character , \"is not Vowel\")"
   ]
  },
  {
   "cell_type": "code",
   "execution_count": 5,
   "metadata": {},
   "outputs": [
    {
     "name": "stdout",
     "output_type": "stream",
     "text": [
      "Enter a character :  e\n",
      "Letter e is Vowel\n"
     ]
    }
   ],
   "source": [
    "vowel = [\"a\",\"e\",\"i\",\"o\",\"u\"]\n",
    "character = str(input(\"Enter a character :  \"))\n",
    "character = character.lower()\n",
    "for b in vowel:\n",
    "    if character == b:\n",
    "        print (\"Letter\",character, \"is Vowel\")\n",
    "        break\n",
    "else:\n",
    "    print(\"Letter\", character , \"is not Vowel\")"
   ]
  },
  {
   "cell_type": "code",
   "execution_count": 14,
   "metadata": {},
   "outputs": [
    {
     "name": "stdout",
     "output_type": "stream",
     "text": [
      "Enter a character :  N\n",
      "Letter N is not Vowel\n"
     ]
    }
   ],
   "source": [
    "vowel = [\"a\",\"e\",\"i\",\"o\",\"u\"]\n",
    "character = str(input(\"Enter a character :  \"))\n",
    "character = character.lower()\n",
    "for b in vowel:\n",
    "    if character == b:\n",
    "        print (\"Letter\",character, \"is Vowel\")\n",
    "        break\n",
    "else:\n",
    "    print(\"Letter\", character , \"is not Vowel\")"
   ]
  },
  {
   "cell_type": "code",
   "execution_count": null,
   "metadata": {},
   "outputs": [],
   "source": []
  },
  {
   "cell_type": "markdown",
   "metadata": {},
   "source": [
    "## 8. Triangle area\n",
    "### Write a Python program that will accept the base and height of a triangle and compute the area\n",
    "###### Reference:\n",
    "https://www.mathgoodies.com/lessons/vol1/area_triangle"
   ]
  },
  {
   "cell_type": "code",
   "execution_count": 8,
   "metadata": {},
   "outputs": [
    {
     "name": "stdout",
     "output_type": "stream",
     "text": [
      "Base :  4\n",
      "Height :  7\n",
      "Base is  4.0 and height is 7.0 then the area is  14.0\n"
     ]
    }
   ],
   "source": [
    "base = float(input(\"Base :  \"))\n",
    "height = float (input(\"Height :  \"))\n",
    "area3 = base*height*0.5\n",
    "print (\"Base is \", base , \"and height is\" , height ,\"then the area is \", area3)\n"
   ]
  },
  {
   "cell_type": "code",
   "execution_count": null,
   "metadata": {},
   "outputs": [],
   "source": []
  },
  {
   "cell_type": "code",
   "execution_count": null,
   "metadata": {},
   "outputs": [],
   "source": []
  },
  {
   "cell_type": "code",
   "execution_count": null,
   "metadata": {},
   "outputs": [],
   "source": []
  },
  {
   "cell_type": "markdown",
   "metadata": {},
   "source": [
    "## 9. Calculate Interest\n",
    "### Write a Python program to compute the future value of a specified principal amount, rate of interest, and a number of years\n",
    "#### Program Console Sample 1:\n",
    "##### Please enter principal amount: 10000\n",
    "###### Please Enter Rate of interest in %: 0.1\n",
    "###### Enter number of years for investment: 5\n",
    "###### After 5 years your principal amount 10000 over an interest rate of 0.1 % will be 16105.1"
   ]
  },
  {
   "cell_type": "code",
   "execution_count": 14,
   "metadata": {},
   "outputs": [
    {
     "name": "stdout",
     "output_type": "stream",
     "text": [
      "Plaese Enter Principle amount :  10000\n",
      "please Enter rate of Interset % :  0.1\n",
      "Enter Number of year for investment :  5\n",
      "After  5 year your principle amount  10000 over an interset rate of  0.1 % will be  16105.100000000006\n"
     ]
    }
   ],
   "source": [
    "amount = int(input(\"Plaese Enter Principle amount :  \"))\n",
    "interset = float(input(\"please Enter rate of Interset % :  \"))\n",
    "year = int(input(\"Enter Number of year for investment :  \"))\n",
    "will_be = amount * (1 + interset )**year\n",
    "print(\"After \",year ,\"year your principle amount \", amount , \"over an interset rate of \", interset ,\"% will be \",will_be)\n",
    "\n"
   ]
  },
  {
   "cell_type": "code",
   "execution_count": null,
   "metadata": {},
   "outputs": [],
   "source": []
  },
  {
   "cell_type": "code",
   "execution_count": null,
   "metadata": {},
   "outputs": [],
   "source": []
  },
  {
   "cell_type": "code",
   "execution_count": null,
   "metadata": {},
   "outputs": [],
   "source": []
  },
  {
   "cell_type": "code",
   "execution_count": null,
   "metadata": {},
   "outputs": [],
   "source": []
  },
  {
   "cell_type": "code",
   "execution_count": null,
   "metadata": {},
   "outputs": [],
   "source": []
  },
  {
   "cell_type": "markdown",
   "metadata": {},
   "source": [
    "## 10. Euclidean distance\n",
    "### write a Python program to compute the distance between the points (x1, y1) and (x2, y2).\n",
    "#### Program Console Sample 1:\n",
    "###### Enter Co-ordinate for x1: 2\n",
    "###### Enter Co-ordinate for x2: 4\n",
    "###### Enter Co-ordinate for y1: 4\n",
    "###### Enter Co-ordinate for y2: 4\n",
    "###### Distance between points (2, 4) and (4, 4) is 2"
   ]
  },
  {
   "cell_type": "markdown",
   "metadata": {},
   "source": [
    "###### Reference:\n",
    "https://en.wikipedia.org/wiki/Euclidean_distance"
   ]
  },
  {
   "cell_type": "code",
   "execution_count": 15,
   "metadata": {},
   "outputs": [
    {
     "name": "stdout",
     "output_type": "stream",
     "text": [
      "Enter Co-ordinate for x1 :  2\n",
      "Enter Co-ordinate for y1 :  4\n",
      "Enter Co-ordinate for x2 :  4\n",
      "Enter Co-ordinate for y2 :  4\n",
      "Distance between point ( 2 , 4 ) and ( 4 , 4 ) is  2.0\n"
     ]
    }
   ],
   "source": [
    "x1 = int(input(\"Enter Co-ordinate for x1 :  \"))\n",
    "y1 = int(input(\"Enter Co-ordinate for y1 :  \"))\n",
    "x2 = int(input(\"Enter Co-ordinate for x2 :  \"))\n",
    "y2 = int(input(\"Enter Co-ordinate for y2 :  \"))\n",
    "formula = ((x1-x2)**2+(y1-y2)**2)**0.5\n",
    "print(\"Distance between point (\",x1,\",\",y1,\") and (\",x2,\",\",y2,\") is \",formula)"
   ]
  },
  {
   "cell_type": "code",
   "execution_count": null,
   "metadata": {},
   "outputs": [],
   "source": []
  },
  {
   "cell_type": "code",
   "execution_count": null,
   "metadata": {},
   "outputs": [],
   "source": []
  },
  {
   "cell_type": "code",
   "execution_count": null,
   "metadata": {},
   "outputs": [],
   "source": []
  },
  {
   "cell_type": "markdown",
   "metadata": {},
   "source": [
    "## 11. Feet to Centimeter Converter\n",
    "### Write a Python program to convert height in feet to centimetres.\n",
    "##### Program Console Sample 1:\n",
    "###### Enter Height in Feet: 5\n",
    "###### There are 152.4 Cm in 5 ft\n",
    "###### Reference:\n",
    "https://www.rapidtables.com/convert/length/feet-to-cm.html"
   ]
  },
  {
   "cell_type": "code",
   "execution_count": 16,
   "metadata": {},
   "outputs": [
    {
     "name": "stdout",
     "output_type": "stream",
     "text": [
      "Enter Height in Feet :  5\n",
      "There are 152.4 Cm in  5.0 feet\n"
     ]
    }
   ],
   "source": [
    "feet = float(input(\"Enter Height in Feet :  \"))\n",
    "cm = 30.48 * feet\n",
    "print(\"There are\",cm, \"Cm in \",feet ,\"feet\")"
   ]
  },
  {
   "cell_type": "code",
   "execution_count": null,
   "metadata": {},
   "outputs": [],
   "source": []
  },
  {
   "cell_type": "code",
   "execution_count": null,
   "metadata": {},
   "outputs": [],
   "source": []
  },
  {
   "cell_type": "code",
   "execution_count": null,
   "metadata": {},
   "outputs": [],
   "source": []
  },
  {
   "cell_type": "markdown",
   "metadata": {},
   "source": [
    "## 12. BMI Calculator\n",
    "### Write a Python program to calculate body mass index\n",
    "##### Program Console Sample 1:\n",
    "###### Enter Height in Cm: 180\n",
    "###### Enter Weight in Kg: 75\n",
    "###### Your BMI is 23.15"
   ]
  },
  {
   "cell_type": "code",
   "execution_count": 1,
   "metadata": {},
   "outputs": [
    {
     "name": "stdout",
     "output_type": "stream",
     "text": [
      "Enter Height in Cm :  180\n",
      "Enter Weight in Kg :  75\n",
      "your BMI is 23.148148148148145\n"
     ]
    }
   ],
   "source": [
    "Cm = float(input(\"Enter Height in Cm :  \"))\n",
    "kg = float(input(\"Enter Weight in Kg :  \"))\n",
    "bmi = kg/(Cm/100)**2\n",
    "print(\"your BMI is\",bmi)"
   ]
  },
  {
   "cell_type": "code",
   "execution_count": null,
   "metadata": {},
   "outputs": [],
   "source": []
  },
  {
   "cell_type": "code",
   "execution_count": null,
   "metadata": {},
   "outputs": [],
   "source": []
  },
  {
   "cell_type": "markdown",
   "metadata": {},
   "source": [
    "## 13. Sum of n Positive Integers\n",
    "### Write a python program to sum of the first n positive integers\n",
    "#### Program Console Sample 1:\n",
    "###### Enter value of n: 5\n",
    "###### Sum of n Positive integers till 5 is 15"
   ]
  },
  {
   "cell_type": "code",
   "execution_count": 2,
   "metadata": {},
   "outputs": [
    {
     "name": "stdout",
     "output_type": "stream",
     "text": [
      "Enter value of n :  5\n",
      "sum of n positive integers is 15\n"
     ]
    }
   ],
   "source": [
    "value = int(input(\"Enter value of n :  \"))\n",
    "for m in range(value):\n",
    "    value = value + m\n",
    "print(\"sum of n positive integers is\" , value)"
   ]
  },
  {
   "cell_type": "code",
   "execution_count": null,
   "metadata": {},
   "outputs": [],
   "source": []
  },
  {
   "cell_type": "code",
   "execution_count": null,
   "metadata": {},
   "outputs": [],
   "source": []
  },
  {
   "cell_type": "markdown",
   "metadata": {},
   "source": [
    "## 14. Digits Sum of a Number\n",
    "### Write a Python program to calculate the sum of the digits in an integer\n",
    "#### Program Console Sample 1:\n",
    "##### Enter a number: 15\n",
    "###### Sum of 1 + 5 is 6\n",
    "#### Program Console Sample 2:\n",
    "##### Enter a number: 1234\n",
    "###### Sum of 1 + 2 + 3 + 4 is 10"
   ]
  },
  {
   "cell_type": "code",
   "execution_count": 4,
   "metadata": {},
   "outputs": [
    {
     "name": "stdout",
     "output_type": "stream",
     "text": [
      "Enter a number: 1234\n",
      "The Sum of digits in the number is 10\n"
     ]
    }
   ],
   "source": [
    "num = int(input(\"Enter a number: \"))\n",
    "c = num // 1000\n",
    "c1 = (num - c*1000)//100\n",
    "c2 = (num - c*1000 - c1*100)//10\n",
    "c3 = (num - c*1000 - c1*100 - c2*10)\n",
    "print(\"The Sum of digits in the number is\", c+c1+c2+c3)"
   ]
  },
  {
   "cell_type": "code",
   "execution_count": null,
   "metadata": {},
   "outputs": [],
   "source": []
  },
  {
   "cell_type": "code",
   "execution_count": null,
   "metadata": {},
   "outputs": [],
   "source": []
  },
  {
   "cell_type": "code",
   "execution_count": null,
   "metadata": {},
   "outputs": [],
   "source": []
  },
  {
   "cell_type": "code",
   "execution_count": null,
   "metadata": {},
   "outputs": [],
   "source": []
  },
  {
   "cell_type": "code",
   "execution_count": null,
   "metadata": {},
   "outputs": [],
   "source": []
  },
  {
   "cell_type": "code",
   "execution_count": null,
   "metadata": {},
   "outputs": [],
   "source": []
  },
  {
   "cell_type": "code",
   "execution_count": null,
   "metadata": {},
   "outputs": [],
   "source": []
  }
 ],
 "metadata": {
  "kernelspec": {
   "display_name": "Python 3",
   "language": "python",
   "name": "python3"
  },
  "language_info": {
   "codemirror_mode": {
    "name": "ipython",
    "version": 3
   },
   "file_extension": ".py",
   "mimetype": "text/x-python",
   "name": "python",
   "nbconvert_exporter": "python",
   "pygments_lexer": "ipython3",
   "version": "3.7.3"
  }
 },
 "nbformat": 4,
 "nbformat_minor": 2
}
