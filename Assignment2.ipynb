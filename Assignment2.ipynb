{
 "cells": [
  {
   "cell_type": "markdown",
   "metadata": {},
   "source": [
    "# The ABC company has hired you as an intern on the coding team that creates e-commerce applications.  \n",
    "You must write a script that asks the user for a value. The value must be used as a whole number in a calculation, even if the user enters a decimal value. \n",
    "\n",
    "You need to write the code to meet the requirements."
   ]
  },
  {
   "cell_type": "code",
   "execution_count": 1,
   "metadata": {},
   "outputs": [
    {
     "name": "stdout",
     "output_type": "stream",
     "text": [
      "Number Of Items: 44\n",
      "you buy  44  items.Thank you\n"
     ]
    }
   ],
   "source": [
    "number_of_items = int(input(\"Number Of Items: \"))\n",
    "print(\"you buy \", number_of_items, \" items.Thank you\")\n"
   ]
  },
  {
   "cell_type": "code",
   "execution_count": null,
   "metadata": {},
   "outputs": [],
   "source": []
  },
  {
   "cell_type": "markdown",
   "metadata": {},
   "source": [
    "# You are creating a Python program that shows a congratulation message to employees on their service anniversary.\n",
    "You need to calculate the number of years of service and print a congratulatory message."
   ]
  },
  {
   "cell_type": "code",
   "execution_count": 12,
   "metadata": {},
   "outputs": [
    {
     "name": "stdout",
     "output_type": "stream",
     "text": [
      "Starting year of Job: 2007\n",
      "CONGRADULATION! You have served 12 year in this company\n"
     ]
    }
   ],
   "source": [
    "start_year = int(input(\"Starting year of Job: \"))\n",
    "present_year = 2019\n",
    "print(\"CONGRADULATION! You have served\", present_year-start_year, \"year in this company\")"
   ]
  },
  {
   "cell_type": "code",
   "execution_count": null,
   "metadata": {},
   "outputs": [],
   "source": []
  },
  {
   "cell_type": "code",
   "execution_count": null,
   "metadata": {},
   "outputs": [],
   "source": []
  },
  {
   "cell_type": "markdown",
   "metadata": {},
   "source": [
    "# Write a Python program to convert temperatures  from fahrenheit to celsius, \n",
    "#step 1: take \"fahrenheit Temperature\" from user in integer data type\n",
    "#step 2: apply formula that is       (  C = (5/9) * (fahrenheit_temperature - 32)  )\n",
    "#step 3: print step 2. "
   ]
  },
  {
   "cell_type": "code",
   "execution_count": 11,
   "metadata": {},
   "outputs": [
    {
     "name": "stdout",
     "output_type": "stream",
     "text": [
      "fahrenheit Temperature: 145\n",
      "Celsius Temperature is 62.77777777777778\n"
     ]
    }
   ],
   "source": [
    "f = int(input(\"fahrenheit Temperature: \"))\n",
    "c = (f-32)*(5/9)\n",
    "print(\"Celsius Temperature is\", c)"
   ]
  },
  {
   "cell_type": "code",
   "execution_count": null,
   "metadata": {},
   "outputs": [],
   "source": []
  },
  {
   "cell_type": "code",
   "execution_count": null,
   "metadata": {},
   "outputs": [],
   "source": []
  },
  {
   "cell_type": "markdown",
   "metadata": {},
   "source": [
    "<h3>assign a vlue to grade by checking the following conditions:: </h3>\n",
    "<h3>if % is greater then and equal to 90 and less then 100 grade is A+ </h3>\n",
    "<h3>if % is greater then and equal to 80 and less then 90 grade is A </h3>\n",
    "<h3>if % is greater then and equal to 70 and less then 80 grade is B </h3>\n",
    "<h3>if % is greater then and equal to 60 and less then 70 grade is C </h3>\n",
    "<h3>if % is less than 60 grade is FAIL </h3>\n"
   ]
  },
  {
   "cell_type": "code",
   "execution_count": 9,
   "metadata": {},
   "outputs": [
    {
     "name": "stdout",
     "output_type": "stream",
     "text": [
      "                  Marks\n",
      "Maths     :  89\n",
      "English   :  98\n",
      "Statictis :  66\n",
      "Economics :  88\n"
     ]
    }
   ],
   "source": [
    "print(\"                  Marks\")\n",
    "m_n = int(input(\"Maths     :  \"))\n",
    "e_n = int(input(\"English   :  \"))\n",
    "s_n = int(input(\"Statictis :  \"))\n",
    "ec_n = int(input(\"Economics :  \"))\n",
    "prsent = (m_n + e_n + s_n + ec_n)*0.25\n",
    "summ = m_n + e_n + s_n + ec_n\n",
    "if prsent > 89.99 and prsent < 100:\n",
    "    grade = \"A+\"\n",
    "if prsent > 79.99 and prsent < 90:\n",
    "    grade = \"A\"\n",
    "if prsent > 69.99 and prsent < 80:\n",
    "    grade = \"B\"\n",
    "if prsent > 59.99 and prsent < 70:\n",
    "    grade = \"C\"\n",
    "if prsent > 0 and prsent < 60:\n",
    "    grade = \"Fail\"\n"
   ]
  },
  {
   "cell_type": "code",
   "execution_count": null,
   "metadata": {},
   "outputs": [],
   "source": []
  },
  {
   "cell_type": "code",
   "execution_count": null,
   "metadata": {},
   "outputs": [],
   "source": []
  },
  {
   "cell_type": "markdown",
   "metadata": {},
   "source": [
    "<h3>Print grade percentage and obtained marks</h3>"
   ]
  },
  {
   "cell_type": "code",
   "execution_count": 10,
   "metadata": {},
   "outputs": [
    {
     "name": "stdout",
     "output_type": "stream",
     "text": [
      "Obtaind Marks :  341\n",
      "Grade :  A\n",
      "Percentage :  85.25\n"
     ]
    }
   ],
   "source": [
    "print(\"Obtaind Marks : \",summ )\n",
    "print(\"Grade : \",grade)\n",
    "print (\"Percentage : \",prsent)\n"
   ]
  },
  {
   "cell_type": "code",
   "execution_count": null,
   "metadata": {},
   "outputs": [],
   "source": []
  }
 ],
 "metadata": {
  "kernelspec": {
   "display_name": "Python 3",
   "language": "python",
   "name": "python3"
  },
  "language_info": {
   "codemirror_mode": {
    "name": "ipython",
    "version": 3
   },
   "file_extension": ".py",
   "mimetype": "text/x-python",
   "name": "python",
   "nbconvert_exporter": "python",
   "pygments_lexer": "ipython3",
   "version": "3.7.3"
  }
 },
 "nbformat": 4,
 "nbformat_minor": 2
}
